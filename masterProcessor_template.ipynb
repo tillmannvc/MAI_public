{
 "cells": [
  {
   "cell_type": "code",
   "execution_count": 1,
   "id": "acute-rugby",
   "metadata": {},
   "outputs": [],
   "source": [
    "###################\n",
    "# Imports & preps #\n",
    "###################\n",
    "import os, re, json, csv, shutil, time, sys, requests, copy, subprocess, random, string,threading, geojson \n",
    "from datetime import date, timedelta, datetime\n",
    "from shapely.geometry import shape\n",
    "import pandas as pd\n",
    "from multiprocess import Pool\n",
    "from IPython.display import display\n",
    "from google.cloud import storage\n",
    "from threading import Thread\n",
    "from json import JSONDecoder\n",
    "from MAI2023.masterFunctions import *"
   ]
  },
  {
   "cell_type": "code",
   "execution_count": 2,
   "id": "numerical-track",
   "metadata": {},
   "outputs": [],
   "source": [
    "#################\n",
    "# API Key Setup #\n",
    "#################\n",
    "if os.environ.get('PL_API_KEY', ''):\n",
    "    PLANET_API_KEY = os.environ.get('PL_API_KEY', '')\n",
    "else:\n",
    "    PLANET_API_KEY = '<INSERT API KEY HERE>' \n",
    "\n",
    "\n",
    "with open('./MAI2023/<INSERT NAME HERE>_service_account_key_encoded.txt') as f: privateKey = f.read()"
   ]
  },
  {
   "cell_type": "code",
   "execution_count": 3,
   "id": "expired-aberdeen",
   "metadata": {},
   "outputs": [],
   "source": [
    "##########################\n",
    "# Parameters & locations #\n",
    "##########################\n",
    "\n",
    "################\n",
    "locGroup = \"<INSERT LOCGROUP HERE>\"\n",
    "country = get_country_name(int(locGroup.split('_')[0])) #extract number from the locGroup name and use that to look up country name\n",
    "print(country)\n",
    "endDate =  '2023-09-30' #(datetime.now()- timedelta(days=10)).strftime('%Y-%m-%d') # latest date for download // \n",
    "print(endDate)\n",
    "################"
   ]
  },
  {
   "cell_type": "code",
   "execution_count": 4,
   "id": "finished-council",
   "metadata": {},
   "outputs": [],
   "source": [
    "# Delete and create temp folder\n",
    "!rm -r ./temp\n",
    "!mkdir ./temp\n",
    "!mkdir ./temp/Jsons\n",
    "\n",
    "# get GEE code from GitHub\n",
    "!rm -r -f ./MAI\n",
    "!git clone \"https://earthengine.googlesource.com/users/tillmanncarnap/MAI\"\n",
    "\n",
    "\n",
    "# Tasks currently running or recently run\n",
    "runningAll = \"./temp/runningAll.csv\"\n",
    "os.system(f'earthengine task list > {runningAll}')\n",
    "print(\"Existing tasks checked\")"
   ]
  },
  {
   "cell_type": "code",
   "execution_count": 5,
   "id": "approved-threat",
   "metadata": {
    "scrolled": false
   },
   "outputs": [ ],
   "source": [
    "run_master(locGroup, endDate, PLANET_API_KEY, privateKey)"
   ]
  }
 ],
 "metadata": {
  "kernelspec": {
   "display_name": "Python 3",
   "language": "python",
   "name": "python3"
  },
  "language_info": {
   "codemirror_mode": {
    "name": "ipython",
    "version": 3
   },
   "file_extension": ".py",
   "mimetype": "text/x-python",
   "name": "python",
   "nbconvert_exporter": "python",
   "pygments_lexer": "ipython3",
   "version": "3.9.2"
  }
 },
 "nbformat": 4,
 "nbformat_minor": 5
}
